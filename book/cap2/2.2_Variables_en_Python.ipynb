{
 "cells": [
  {
   "cell_type": "markdown",
   "id": "hawaiian-division",
   "metadata": {},
   "source": [
    "![banner](../logo/banner.png)"
   ]
  },
  {
   "cell_type": "markdown",
   "id": "aboriginal-reach",
   "metadata": {},
   "source": [
    "# 2.2 Variables en Python\n",
    "\n",
    "*Python es un lenguaje dinamicamente tipado, y sin declaración de tipo, tan solo se declara la variable con un valor de inicialización, es lo **unico necesario**.*"
   ]
  },
  {
   "cell_type": "markdown",
   "id": "rubber-litigation",
   "metadata": {},
   "source": [
    "## 2.2.1 Buenas prácticas para declaración de variables en Python\n",
    "\n",
    "En Python las buenas practicas que se aplican a la declaración de variables, son las siguientes:\n",
    "\n",
    "- Se deben escribir en minúsculas\n",
    "- Solo puede contener numeros despues de la primera letra con el que comienza el nombre de la variable que estamos declarando.\n",
    "    - Ejemplo:\n",
    "        - `k5m`\n",
    "        - `variable1`\n",
    "        - `v2s`\n",
    "        - `variable_2`\n",
    "- Sensibles a minúsculas y mayúsculas; es decir, si declaro una variable llamada `variable1` y otra llamada `Variable1`, para la computadora son variables o espacios de memoria distintos, aun que suenen igual, con el solo hecho de cambiar una letra, ya estamos hablando de una variable distinta.\n",
    "- No pueden contener espacios entre letras o palabras\n",
    "- No puede comenzar con números o símbolos\n",
    "- No puede contener carácteres especiales, todos son caracteres especiales menos el abecedario ingles. Ejemplo: !\"·\\$%&\\/()=?¿.\n",
    "- **El nombre debe ser descriptivo**; es decir, con solo leerlo podemos deducir qué hace o para qué fue declarada\n",
    "- *(Regla especial):* Todo de escribe en ingles.\n",
    "- Si se desea escribir una variable combinando dos palabras o más, se separarán con un guíon bajo (_). Esta **convensión** se llama **Snake Case** (snake_case)\n",
    "    - Ejemplos:\n",
    "        - `valor`\n",
    "        - `valor1`\n",
    "        - `valor_uno`\n",
    "        - `valor_1`\n",
    "- **Siempre se debe inicializar la variable**:\n",
    "    - Ejemplo: \n",
    "        - `mi_variable = 10`\n",
    "        - `variable_2 = \"mensaje\"`"
   ]
  },
  {
   "cell_type": "markdown",
   "id": "collected-prison",
   "metadata": {},
   "source": [
    "## 2.2.2 Tipos de datos en Python\n",
    "\n",
    "Al ser un lenguaje debilmente tipado no es necesario indicar que tipo es variable, pero se deben conocer para la compatibilidad de tipos y cómo podemos trabajar con ellos.\n",
    "\n",
    "Tipo | Descripción | Ejemplo\n",
    ":-:|:-|:-\n",
    "Int| Números enteros naturales | `variable_int = 10`\n",
    "Float| Números con punto decimal | `variable_flotante = 2.2`\n",
    "str|Cadena de caracteres (String)| `variable_str = \"texto\"`\n",
    "Bool|Tipo booleano | `variable_bool = True`\n",
    "Complex| Tipo número complejo | `variable_complex = 3+5j`\n",
    "(Int) Hexadecimal|Número hexadecimal |`variable_hex = 0xa`\n",
    "(Int) Octal|Número octal | `variable_oct =  0o12`\n",
    "(Int) Binario| Número binario | `variable_bin = 0b1010`"
   ]
  },
  {
   "cell_type": "markdown",
   "id": "sharp-massachusetts",
   "metadata": {},
   "source": [
    "## 2.2.3 Variables tipo Enteras (int)\n",
    "\n",
    "El tipo de variable más común son las variables entereras, que son valores tanto *negativos o positivos enteros*. Practicamente no hay límite con el valor que se puede asignar, siempre y cuando no tenga parte fraccionaria.\n",
    "\n",
    "**Ejemplo:**"
   ]
  },
  {
   "cell_type": "code",
   "execution_count": 16,
   "id": "vanilla-invalid",
   "metadata": {},
   "outputs": [],
   "source": [
    "variable = 10 # Inicializo con un valor de 10\n",
    "\n",
    "variable_2 = 0 # Inicializo con un valor de 0\n",
    "\n",
    "variable_3 = -5 # Inicializo con un valor de -5\n",
    "\n",
    "valor_enorme = 5000000000000000000000000000000000000000000000000000000"
   ]
  },
  {
   "cell_type": "code",
   "execution_count": 5,
   "id": "indie-flush",
   "metadata": {},
   "outputs": [
    {
     "name": "stdout",
     "output_type": "stream",
     "text": [
      "10\n",
      "-----\n",
      "0\n",
      "-----\n",
      "-5\n",
      "-----\n",
      "5000000000000000000000000000000000000000000000000000000\n"
     ]
    }
   ],
   "source": [
    "print(variable)\n",
    "print(\"-----\")\n",
    "print(variable_2)\n",
    "print(\"-----\")\n",
    "print(variable_3)\n",
    "print(\"-----\")\n",
    "print(valor_enorme)"
   ]
  },
  {
   "cell_type": "markdown",
   "id": "choice-bride",
   "metadata": {},
   "source": [
    "Dentro de la variables enteras tambien están comprendidas otro números con base diferente, siempre manejamos base decimal. En el ejemplo que se muestra asignación de otros tipos de variables."
   ]
  },
  {
   "cell_type": "code",
   "execution_count": 9,
   "id": "embedded-italian",
   "metadata": {},
   "outputs": [],
   "source": [
    "diez = 10               # Base diez, comprende de 0 a 9\n",
    "\n",
    "diez_binario = 0b1010   # Número binario, comprende de 0 y 1\n",
    "\n",
    "diez_octal = 0o12       # Base Octal, comprende de 0 a 7\n",
    "\n",
    "diez_hex = 0x0a          # Base hexadecimal comprende de 0 a F"
   ]
  },
  {
   "cell_type": "code",
   "execution_count": 8,
   "id": "qualified-hughes",
   "metadata": {
    "scrolled": true
   },
   "outputs": [
    {
     "name": "stdout",
     "output_type": "stream",
     "text": [
      "10\n",
      "-----\n",
      "10\n",
      "-----\n",
      "10\n",
      "-----\n",
      "10\n"
     ]
    }
   ],
   "source": [
    "print(diez)\n",
    "print(\"-----\")\n",
    "print(diez_binario)\n",
    "print(\"-----\")\n",
    "print(diez_octal)\n",
    "print(\"-----\")\n",
    "print(diez_hex)"
   ]
  },
  {
   "cell_type": "markdown",
   "id": "caroline-graduate",
   "metadata": {},
   "source": [
    "## 2.2.4 Variables tipo Flotantes (float)\n",
    "\n",
    "El tipo de variable flotante o punto flotante, que son valores tanto *negativos o positivos con parte decimal*. Practicamente no hay límite con el valor que se puede asignar.\n",
    "\n",
    "**Ejemplo:**"
   ]
  },
  {
   "cell_type": "code",
   "execution_count": 10,
   "id": "aquatic-drove",
   "metadata": {},
   "outputs": [],
   "source": [
    "variable = 5.6 # Inicializo con un valor de 5.6\n",
    "\n",
    "variable_2 = 0.4 # Inicializo con un valor de 0.4\n",
    "\n",
    "variable_3 = -5.4 # Inicializo con un valor de -5.4\n",
    "\n",
    "variable_4 = 0.000000000000000005616516851654864651"
   ]
  },
  {
   "cell_type": "code",
   "execution_count": 11,
   "id": "racial-symbol",
   "metadata": {},
   "outputs": [
    {
     "name": "stdout",
     "output_type": "stream",
     "text": [
      "5.6\n",
      "-----\n",
      "0.4\n",
      "-----\n",
      "-5.4\n",
      "-----\n",
      "5.616516851654865e-18\n",
      "-----\n"
     ]
    }
   ],
   "source": [
    "print(variable)\n",
    "print(\"-----\")\n",
    "print(variable_2)\n",
    "print(\"-----\")\n",
    "print(variable_3)\n",
    "print(\"-----\")\n",
    "print(variable_4)\n",
    "print(\"-----\")"
   ]
  },
  {
   "cell_type": "markdown",
   "id": "direct-photographer",
   "metadata": {},
   "source": [
    "## 2.2.4 Variables tipo str (String) o Cadena de caracteres\n",
    "\n",
    "Otro tipo de dato utilizado es el tipo de dato String, abreviado `str`.\n",
    "Hay varias formas para crear este tipo de dato, se debe escribir entre doble comilla `\"\"`, entre doble comilla simple `''`, entre tripe comilla simple `''' '''`, entre triple doble comilla `\"\"\" \"\"\"` "
   ]
  },
  {
   "cell_type": "code",
   "execution_count": 13,
   "id": "hungry-header",
   "metadata": {},
   "outputs": [],
   "source": [
    "cadena_1 = 'This is a string in Python' # string in single quotes\n",
    "cadena_2 = \"This is a string in Python\" # string in double quotes\n",
    "cadena_3 = '''This is a string in Python''' # string in triple quotes\n",
    "cadena_4 = \"\"\"This is a string in Python\"\"\" # string in triple double-quotes"
   ]
  },
  {
   "cell_type": "code",
   "execution_count": 14,
   "id": "brutal-chorus",
   "metadata": {},
   "outputs": [
    {
     "name": "stdout",
     "output_type": "stream",
     "text": [
      "This is a string in Python\n",
      "----------------\n",
      "This is a string in Python\n",
      "----------------\n",
      "This is a string in Python\n",
      "----------------\n",
      "This is a string in Python\n"
     ]
    }
   ],
   "source": [
    "print(cadena_1)\n",
    "print(\"----------------\")\n",
    "print(cadena_2)\n",
    "print(\"----------------\")\n",
    "print(cadena_3)\n",
    "print(\"----------------\")\n",
    "print(cadena_4)"
   ]
  },
  {
   "cell_type": "markdown",
   "id": "statewide-passenger",
   "metadata": {},
   "source": [
    "En concreto entre doble comilla y comilla simple no hay diferencias pero con lo que respecta a triple comilla simple y triple comilla doble, se conoce como multilinea."
   ]
  },
  {
   "cell_type": "code",
   "execution_count": null,
   "id": "initial-fellow",
   "metadata": {},
   "outputs": [],
   "source": [
    "str1='''This is \n",
    "the first\n",
    "Multi-line string.\n",
    "'''\n",
    "print(str1)\n",
    "\n",
    "str2=\"\"\"This is\n",
    "the second\n",
    "Multi-line\n",
    "string.\"\"\"\n",
    "print(str2)"
   ]
  },
  {
   "cell_type": "markdown",
   "id": "breathing-marble",
   "metadata": {},
   "source": [
    "No se pueden mezclar entre doble comilla y simple comilla, y tienen efectos similares, es decir, si necesitamos mostrar un texto con comillas simples o doble comilla, se realiza de la siguiente manera."
   ]
  },
  {
   "cell_type": "code",
   "execution_count": 46,
   "id": "mediterranean-observation",
   "metadata": {},
   "outputs": [
    {
     "name": "stdout",
     "output_type": "stream",
     "text": [
      "Estamos aprendiendo \"Python\" paso a paso\n",
      "Estamos aprendiendo 'Python' paso a paso\n"
     ]
    }
   ],
   "source": [
    "str1='Estamos aprendiendo \"Python\" paso a paso'\n",
    "print(str1)\n",
    "\n",
    "str2=\"Estamos aprendiendo 'Python' paso a paso\"\n",
    "print(str2)"
   ]
  },
  {
   "cell_type": "markdown",
   "id": "foster-taste",
   "metadata": {},
   "source": [
    "## 2.2.5 Variables tipo Booleana (bool)\n",
    "\n",
    "El tipo de dato booleano solo tiene dos tipos de valores:\n",
    "- `True`\n",
    "- `False`\n",
    "\n",
    "Creamos unas variables y asignamos valores tipo booleanos.\n",
    "\n",
    "**Ejemplo:**"
   ]
  },
  {
   "cell_type": "code",
   "execution_count": 15,
   "id": "hollow-florist",
   "metadata": {},
   "outputs": [
    {
     "name": "stdout",
     "output_type": "stream",
     "text": [
      "True\n",
      "----------\n",
      "False\n"
     ]
    }
   ],
   "source": [
    "valor_verdadero = True\n",
    "\n",
    "valor_falso = False\n",
    "\n",
    "print(valor_verdadero)\n",
    "print('----------')\n",
    "print(valor_falso)"
   ]
  },
  {
   "cell_type": "markdown",
   "id": "prompt-stranger",
   "metadata": {},
   "source": [
    "Realizado por Docente: [Alejandro Leyva](https://www.alejandro-leyva.com/)\n",
    "\n",
    "[Mecatrónica 85](https://mecatronica85.com/)\n",
    "\n",
    "[fb/mecatronica85](https://www.facebook.com/mecatronica85)"
   ]
  }
 ],
 "metadata": {
  "kernelspec": {
   "display_name": "Python 3",
   "language": "python",
   "name": "python3"
  },
  "language_info": {
   "codemirror_mode": {
    "name": "ipython",
    "version": 3
   },
   "file_extension": ".py",
   "mimetype": "text/x-python",
   "name": "python",
   "nbconvert_exporter": "python",
   "pygments_lexer": "ipython3",
   "version": "3.7.3"
  },
  "widgets": {
   "application/vnd.jupyter.widget-state+json": {
    "state": {},
    "version_major": 2,
    "version_minor": 0
   }
  }
 },
 "nbformat": 4,
 "nbformat_minor": 5
}
