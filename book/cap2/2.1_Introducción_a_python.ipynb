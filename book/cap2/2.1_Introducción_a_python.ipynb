{
 "cells": [
  {
   "cell_type": "markdown",
   "id": "special-performance",
   "metadata": {},
   "source": [
    "![banner](../logo/banner.png)"
   ]
  },
  {
   "cell_type": "markdown",
   "id": "wicked-hampshire",
   "metadata": {},
   "source": [
    "# 2.1. Introducción a Python"
   ]
  },
  {
   "cell_type": "markdown",
   "id": "violent-performance",
   "metadata": {},
   "source": [
    "Python es un lenguaje de programación interpretado de proposito general, es debilmente tipado."
   ]
  },
  {
   "cell_type": "markdown",
   "id": "fifth-tattoo",
   "metadata": {},
   "source": [
    "Estamos hablando de un lenguaje de programación debilmente tipcado. Como tal si existen los tipos pero no se definen explicitamente y pueden ir cambiando en cualquier momento."
   ]
  },
  {
   "cell_type": "markdown",
   "id": "temporal-linux",
   "metadata": {},
   "source": [
    "## 2.1.1 Instalación de Python"
   ]
  },
  {
   "cell_type": "markdown",
   "id": "textile-recruitment",
   "metadata": {},
   "source": [
    "Para instalar Python se entra a su sitio oficial https://www.python.org/"
   ]
  },
  {
   "cell_type": "markdown",
   "id": "cosmetic-tender",
   "metadata": {},
   "source": [
    "Al momento de realizar esta documentación estamos en la versión 3.9.2"
   ]
  },
  {
   "cell_type": "markdown",
   "id": "abstract-reading",
   "metadata": {},
   "source": [
    "![python screen](img/python_screen.png)"
   ]
  },
  {
   "cell_type": "markdown",
   "id": "quick-holmes",
   "metadata": {},
   "source": [
    "**Pero usaremos una versión estable de [Python 3.7.3](https://www.python.org/downloads/release/python-373/).**"
   ]
  },
  {
   "cell_type": "markdown",
   "id": "lonely-edition",
   "metadata": {},
   "source": [
    "## 2.1.2 Instalación de Python en Windows"
   ]
  },
  {
   "cell_type": "markdown",
   "id": "greater-athletics",
   "metadata": {},
   "source": [
    "Se elige para la versión del sistema operativo. En esta caso vamos a suponer que tenemos una versión de Windows a 64 bits (x64). \n",
    "Elegimos la versión [Windows x86-64 executable installer](https://www.python.org/ftp/python/3.7.3/python-3.7.3-amd64.exe)"
   ]
  },
  {
   "cell_type": "markdown",
   "id": "naughty-moderator",
   "metadata": {},
   "source": [
    "![type_installer](img/type_installer.png)"
   ]
  },
  {
   "cell_type": "markdown",
   "id": "competitive-prior",
   "metadata": {},
   "source": [
    "Al ejecutar el instalador se debe activar la creación del PATH (variable de entorno), para que se agregue de forma automatica y se pueda ocupar en la lina de comando (CMD) de Windows."
   ]
  },
  {
   "cell_type": "markdown",
   "id": "disturbed-party",
   "metadata": {},
   "source": []
  },
  {
   "cell_type": "markdown",
   "id": "organizational-relative",
   "metadata": {},
   "source": [
    "## 2.1.6 Tipos de lenguajes de programación\n",
    "\n",
    "- Lenguaje **COMPILADO**\n",
    "- Lenguaje **INTERPRETADO**"
   ]
  },
  {
   "cell_type": "markdown",
   "id": "serial-sugar",
   "metadata": {},
   "source": [
    "## 2.1.7 Ventajas de Python\n",
    "\n",
    "- Python es multiplaforma\n",
    "- Python es Open Source"
   ]
  },
  {
   "cell_type": "markdown",
   "id": "accomplished-remedy",
   "metadata": {},
   "source": []
  },
  {
   "cell_type": "markdown",
   "id": "acting-onion",
   "metadata": {},
   "source": []
  },
  {
   "cell_type": "markdown",
   "id": "otherwise-desperate",
   "metadata": {},
   "source": []
  },
  {
   "cell_type": "markdown",
   "id": "adapted-crawford",
   "metadata": {},
   "source": [
    "Realizado por Docente: [Alejandro Leyva](https://www.alejandro-leyva.com/)\n",
    "\n",
    "[Mecatrónica 85](https://mecatronica85.com/)\n",
    "\n",
    "[fb/mecatronica85](https://www.facebook.com/mecatronica85)"
   ]
  }
 ],
 "metadata": {
  "kernelspec": {
   "display_name": "Python 3 (ipykernel)",
   "language": "python",
   "name": "python3"
  },
  "language_info": {
   "codemirror_mode": {
    "name": "ipython",
    "version": 3
   },
   "file_extension": ".py",
   "mimetype": "text/x-python",
   "name": "python",
   "nbconvert_exporter": "python",
   "pygments_lexer": "ipython3",
   "version": "3.9.2"
  }
 },
 "nbformat": 4,
 "nbformat_minor": 5
}
